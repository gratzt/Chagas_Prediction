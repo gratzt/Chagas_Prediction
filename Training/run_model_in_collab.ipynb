{
 "cells": [
  {
   "cell_type": "code",
   "execution_count": null,
   "metadata": {
    "executionInfo": {
     "elapsed": 4,
     "status": "ok",
     "timestamp": 1744945741114,
     "user": {
      "displayName": "Trevor Gratz",
      "userId": "12799202104288449085"
     },
     "user_tz": 420
    },
    "id": "IE83M8fF-6jM"
   },
   "outputs": [],
   "source": [
    "import os\n",
    "import sys\n",
    "import numpy as np\n",
    "import math\n",
    "import time\n",
    "from google.colab import runtime"
   ]
  },
  {
   "cell_type": "code",
   "execution_count": null,
   "metadata": {
    "executionInfo": {
     "elapsed": 15,
     "status": "ok",
     "timestamp": 1744945741130,
     "user": {
      "displayName": "Trevor Gratz",
      "userId": "12799202104288449085"
     },
     "user_tz": 420
    },
    "id": "UaruyY9R-d-n"
   },
   "outputs": [],
   "source": [
    "%load_ext autoreload\n",
    "%autoreload 2"
   ]
  },
  {
   "cell_type": "code",
   "execution_count": null,
   "metadata": {
    "colab": {
     "base_uri": "https://localhost:8080/"
    },
    "executionInfo": {
     "elapsed": 17710,
     "status": "ok",
     "timestamp": 1744945758876,
     "user": {
      "displayName": "Trevor Gratz",
      "userId": "12799202104288449085"
     },
     "user_tz": 420
    },
    "id": "NvATtMNB-qcE",
    "outputId": "4fca8d5a-2195-4da4-a694-95a5c61f5f68"
   },
   "outputs": [],
   "source": [
    "from google.colab import drive\n",
    "drive.mount('/content/drive')"
   ]
  },
  {
   "cell_type": "code",
   "execution_count": null,
   "metadata": {
    "colab": {
     "base_uri": "https://localhost:8080/"
    },
    "executionInfo": {
     "elapsed": 2161,
     "status": "ok",
     "timestamp": 1744945761037,
     "user": {
      "displayName": "Trevor Gratz",
      "userId": "12799202104288449085"
     },
     "user_tz": 420
    },
    "id": "feVg-BOq-tVk",
    "outputId": "fac89137-e81a-44a6-f3e6-4da1ca3a78b0"
   },
   "outputs": [],
   "source": [
    "# TODO: Fill in the Google Drive path where you uploaded assignment1\n",
    "# Example: If you create a Fall2023 folder and put all the files under A1 folder, then 'Fall2023/A1'\n",
    "GOOGLE_DRIVE_PATH_POST_MYDRIVE = r'project-folder'\n",
    "GOOGLE_DRIVE_PATH = os.path.join('/content', 'drive', 'MyDrive', GOOGLE_DRIVE_PATH_POST_MYDRIVE)\n",
    "print(os.listdir(GOOGLE_DRIVE_PATH))"
   ]
  },
  {
   "cell_type": "code",
   "execution_count": null,
   "metadata": {
    "colab": {
     "base_uri": "https://localhost:8080/"
    },
    "executionInfo": {
     "elapsed": 41,
     "status": "ok",
     "timestamp": 1744945761080,
     "user": {
      "displayName": "Trevor Gratz",
      "userId": "12799202104288449085"
     },
     "user_tz": 420
    },
    "id": "P42nPj-e-xrz",
    "outputId": "ed14d242-1f07-4951-e19d-ac9ed644d79a"
   },
   "outputs": [],
   "source": [
    "# if running locally set GOOGLE PATH\n",
    "import sys\n",
    "if 'google.colab' in sys.modules:\n",
    "  print(f'Running in google colab. Our path is `{GOOGLE_DRIVE_PATH}`')\n",
    "else:\n",
    "  GOOGLE_DRIVE_PATH = '.'\n",
    "  print('Running locally.')"
   ]
  },
  {
   "cell_type": "code",
   "execution_count": null,
   "metadata": {
    "executionInfo": {
     "elapsed": 2,
     "status": "ok",
     "timestamp": 1744945761081,
     "user": {
      "displayName": "Trevor Gratz",
      "userId": "12799202104288449085"
     },
     "user_tz": 420
    },
    "id": "rOJp6P5X-zWc"
   },
   "outputs": [],
   "source": [
    "os.chdir('/content/drive/My Drive/cs7643-project')\n",
    "sys.path.append(GOOGLE_DRIVE_PATH)"
   ]
  },
  {
   "cell_type": "code",
   "execution_count": null,
   "metadata": {
    "colab": {
     "base_uri": "https://localhost:8080/"
    },
    "executionInfo": {
     "elapsed": 2396,
     "status": "ok",
     "timestamp": 1744945763477,
     "user": {
      "displayName": "Trevor Gratz",
      "userId": "12799202104288449085"
     },
     "user_tz": 420
    },
    "id": "zhPlG3uFIBA-",
    "outputId": "e9e06a3d-0b41-4a6a-8106-48b838a3e934"
   },
   "outputs": [],
   "source": [
    "!pip install pandas==2.2.2"
   ]
  },
  {
   "cell_type": "code",
   "execution_count": null,
   "metadata": {
    "executionInfo": {
     "elapsed": 67255,
     "status": "ok",
     "timestamp": 1744945830736,
     "user": {
      "displayName": "Trevor Gratz",
      "userId": "12799202104288449085"
     },
     "user_tz": 420
    },
    "id": "zaZxtYaeIC81"
   },
   "outputs": [],
   "source": [
    "!pip install torch>=2.0.0"
   ]
  },
  {
   "cell_type": "code",
   "execution_count": null,
   "metadata": {
    "executionInfo": {
     "elapsed": 2869,
     "status": "ok",
     "timestamp": 1744945833606,
     "user": {
      "displayName": "Trevor Gratz",
      "userId": "12799202104288449085"
     },
     "user_tz": 420
    },
    "id": "3E2hJLBzILCO"
   },
   "outputs": [],
   "source": [
    "!pip install scipy>=1.10.0"
   ]
  },
  {
   "cell_type": "code",
   "execution_count": null,
   "metadata": {
    "executionInfo": {
     "elapsed": 3079,
     "status": "ok",
     "timestamp": 1744945836686,
     "user": {
      "displayName": "Trevor Gratz",
      "userId": "12799202104288449085"
     },
     "user_tz": 420
    },
    "id": "vJzlp1jKIN4W"
   },
   "outputs": [],
   "source": [
    "!pip install PyWavelets>=1.4.0"
   ]
  },
  {
   "cell_type": "code",
   "execution_count": null,
   "metadata": {
    "executionInfo": {
     "elapsed": 2723,
     "status": "ok",
     "timestamp": 1744945839410,
     "user": {
      "displayName": "Trevor Gratz",
      "userId": "12799202104288449085"
     },
     "user_tz": 420
    },
    "id": "EEyZWW2vIQBF"
   },
   "outputs": [],
   "source": [
    "!pip install scikit-learn>=1.6.0"
   ]
  },
  {
   "cell_type": "code",
   "execution_count": null,
   "metadata": {
    "colab": {
     "base_uri": "https://localhost:8080/"
    },
    "executionInfo": {
     "elapsed": 8741,
     "status": "ok",
     "timestamp": 1744945848154,
     "user": {
      "displayName": "Trevor Gratz",
      "userId": "12799202104288449085"
     },
     "user_tz": 420
    },
    "id": "I0dqVTgJIR4-",
    "outputId": "767c532c-47d5-4c32-c981-75b1f22f6c08"
   },
   "outputs": [],
   "source": [
    "!pip install wfdb"
   ]
  },
  {
   "cell_type": "code",
   "execution_count": null,
   "metadata": {
    "executionInfo": {
     "elapsed": 2710,
     "status": "ok",
     "timestamp": 1744945850865,
     "user": {
      "displayName": "Trevor Gratz",
      "userId": "12799202104288449085"
     },
     "user_tz": 420
    },
    "id": "FlzEkQUtITXO"
   },
   "outputs": [],
   "source": [
    "!pip install h5py>=3.10.0"
   ]
  },
  {
   "cell_type": "code",
   "execution_count": null,
   "metadata": {
    "colab": {
     "base_uri": "https://localhost:8080/"
    },
    "executionInfo": {
     "elapsed": 3125,
     "status": "ok",
     "timestamp": 1744945853991,
     "user": {
      "displayName": "Trevor Gratz",
      "userId": "12799202104288449085"
     },
     "user_tz": 420
    },
    "id": "n0fAvx0yMz-m",
    "outputId": "19dfcac6-3b9f-4770-f6c0-d0bbbaecd7b4"
   },
   "outputs": [],
   "source": [
    "pip install ipdb"
   ]
  },
  {
   "cell_type": "code",
   "execution_count": null,
   "metadata": {
    "executionInfo": {
     "elapsed": 33,
     "status": "ok",
     "timestamp": 1744945854037,
     "user": {
      "displayName": "Trevor Gratz",
      "userId": "12799202104288449085"
     },
     "user_tz": 420
    },
    "id": "CqidV5PlLhUP"
   },
   "outputs": [],
   "source": [
    "os.chdir('/content/drive/My Drive/cs7643-project')"
   ]
  },
  {
   "cell_type": "code",
   "execution_count": null,
   "metadata": {
    "colab": {
     "base_uri": "https://localhost:8080/"
    },
    "executionInfo": {
     "elapsed": 17642535,
     "status": "ok",
     "timestamp": 1744963496697,
     "user": {
      "displayName": "Trevor Gratz",
      "userId": "12799202104288449085"
     },
     "user_tz": 420
    },
    "id": "JewdfyA-HdcW",
    "outputId": "d0805888-a7a8-492d-bb84-a684256de1f5"
   },
   "outputs": [],
   "source": [
    "!python train_model.py -d \"data foler path\" -m \"model output folder path\" -v"
   ]
  },
  {
   "cell_type": "code",
   "execution_count": null,
   "metadata": {
    "executionInfo": {
     "elapsed": 204,
     "status": "ok",
     "timestamp": 1744963496906,
     "user": {
      "displayName": "Trevor Gratz",
      "userId": "12799202104288449085"
     },
     "user_tz": 420
    },
    "id": "KWoAIsfMbySC"
   },
   "outputs": [],
   "source": [
    "runtime.unassign()"
   ]
  }
 ],
 "metadata": {
  "accelerator": "GPU",
  "colab": {
   "authorship_tag": "ABX9TyNpf7Pp68NgejUWCUiDlAQy",
   "gpuType": "L4",
   "machine_shape": "hm",
   "provenance": []
  },
  "kernelspec": {
   "display_name": "cs7643-project",
   "language": "python",
   "name": "python3"
  },
  "language_info": {
   "name": "python",
   "version": "3.12.9"
  }
 },
 "nbformat": 4,
 "nbformat_minor": 0
}
